{
 "cells": [
  {
   "cell_type": "code",
   "execution_count": 10,
   "metadata": {},
   "outputs": [
    {
     "name": "stdout",
     "output_type": "stream",
     "text": [
      "Collecting imutils\n",
      "  Downloading https://files.pythonhosted.org/packages/b5/94/46dcae8c061e28be31bcaa55c560cb30ee9403c9a4bb2659768ec1b9eb7d/imutils-0.5.3.tar.gz\n",
      "Building wheels for collected packages: imutils\n",
      "  Building wheel for imutils (setup.py): started\n",
      "  Building wheel for imutils (setup.py): finished with status 'done'\n",
      "  Stored in directory: C:\\Users\\Sorya\\AppData\\Local\\pip\\Cache\\wheels\\16\\84\\1f\\bf88641293cda2c8be81a5c4b8ca973dd9125a6dc3767417fd\n",
      "Successfully built imutils\n",
      "Installing collected packages: imutils\n",
      "Successfully installed imutils-0.5.3\n",
      "Collecting pydub\n",
      "  Downloading https://files.pythonhosted.org/packages/79/db/eaf620b73a1eec3c8c6f8f5b0b236a50f9da88ad57802154b7ba7664d0b8/pydub-0.23.1-py2.py3-none-any.whl\n",
      "Installing collected packages: pydub\n",
      "Successfully installed pydub-0.23.1\n"
     ]
    }
   ],
   "source": [
    "import numpy as np\n",
    "import time\n",
    "import os\n",
    "!pip install imutils\n",
    "import subprocess\n",
    "!pip install pydub"
   ]
  },
  {
   "cell_type": "code",
   "execution_count": 3,
   "metadata": {},
   "outputs": [
    {
     "name": "stdout",
     "output_type": "stream",
     "text": [
      "Collecting opencv-python\n",
      "  Downloading https://files.pythonhosted.org/packages/1f/51/e0b9cef23098bc31c77b0e06221dd8d05119b9782d4c2b1d1482e22b5f5e/opencv_python-4.1.1.26-cp37-cp37m-win_amd64.whl (39.0MB)\n",
      "Requirement already satisfied: numpy>=1.14.5 in c:\\programdata\\anaconda3\\lib\\site-packages (from opencv-python) (1.16.2)\n",
      "Installing collected packages: opencv-python\n",
      "Successfully installed opencv-python-4.1.1.26\n"
     ]
    }
   ],
   "source": [
    "!pip install opencv-python  "
   ]
  },
  {
   "cell_type": "code",
   "execution_count": 13,
   "metadata": {},
   "outputs": [],
   "source": [
    "import cv2\n"
   ]
  },
  {
   "cell_type": "code",
   "execution_count": 25,
   "metadata": {},
   "outputs": [
    {
     "name": "stdout",
     "output_type": "stream",
     "text": [
      "['left horse', 'right horse', 'center horse']\n"
     ]
    }
   ],
   "source": [
    "# load the COCO class labels our YOLO model was trained on\n",
    "LABELS = open(\"data/coco.names\").read().strip().split(\"\\n\")\n",
    "\n",
    "# load our YOLO object detector trained on COCO dataset (80 classes)\n",
    "net = cv2.dnn.readNetFromDarknet(\"cfg/yolov3.cfg\", \"yolov3.weights\")\n",
    "\n",
    "# determine only the *output* layer names that we need from YOLO\n",
    "ln = net.getLayerNames()\n",
    "ln = [ln[i[0] - 1] for i in net.getUnconnectedOutLayers()]\n",
    "\n",
    "# initialize\n",
    "# load the image with imread()\n",
    "imageSource = 'data/horses.jpg'\n",
    "img = cv2.imread(imageSource)\n",
    "\n",
    "\n",
    "# grab the image dimensions and convert it to a blob\n",
    "(H, W) = img.shape[:2]\n",
    "# construct a blob from the input image and then perform a forward\n",
    "# pass of the YOLO object detector, giving us our bounding boxes and\n",
    "# associated probabilities\n",
    "blob = cv2.dnn.blobFromImage(img, 1 / 255.0, (416, 416),\n",
    "swapRB=True, crop=False)\n",
    "net.setInput(blob)\n",
    "layerOutputs = net.forward(ln)\n",
    "\n",
    "# initialize our lists of detected bounding boxes, confidences, and\n",
    "# class IDs, respectively\n",
    "boxes = []\n",
    "confidences = []\n",
    "classIDs = []\n",
    "centers = []\n",
    "\n",
    "# loop over each of the layer outputs\n",
    "for output in layerOutputs:\n",
    "  # loop over each of the detections\n",
    "  for detection in output:\n",
    "      # extract the class ID and confidence (i.e., probability) of\n",
    "      # the current object detection\n",
    "      scores = detection[5:]\n",
    "      classID = np.argmax(scores)\n",
    "      confidence = scores[classID]\n",
    "\n",
    "      # filter out weak predictions by ensuring the detected\n",
    "      # probability is greater than the minimum probability\n",
    "      if confidence > 0.5:\n",
    "          # scale the bounding box coordinates back relative to the\n",
    "          # size of the image, keeping in mind that YOLO actually\n",
    "          # returns the center (x, y)-coordinates of the bounding\n",
    "          # box followed by the boxes' width and height\n",
    "          box = detection[0:4] * np.array([W, H, W, H])\n",
    "          (centerX, centerY, width, height) = box.astype(\"int\")\n",
    "\n",
    "          # use the center (x, y)-coordinates to derive the top and\n",
    "          # and left corner of the bounding box\n",
    "          x = int(centerX - (width / 2))\n",
    "          y = int(centerY - (height / 2))\n",
    "\n",
    "          # update our list of bounding box coordinates, confidences,\n",
    "          # and class IDs\n",
    "          boxes.append([x, y, int(width), int(height)])\n",
    "          confidences.append(float(confidence))\n",
    "          classIDs.append(classID)\n",
    "          centers.append((centerX, centerY))\n",
    "          if classID == 2:\n",
    "            mid_x = (int(width))/2\n",
    "            mid_y = (int(width))/2\n",
    "            apx_distance = round(((1 - int(width))**4),1)\n",
    "            print(apx_distance)\n",
    "\n",
    "\n",
    "  # apply non-maxima suppression to suppress weak, overlapping bounding\n",
    "  # boxes\n",
    "  idxs = cv2.dnn.NMSBoxes(boxes, confidences, 0.5, 0.3)\n",
    "\n",
    "  texts = []\n",
    "\n",
    "  # ensure at least one detection exists\n",
    "  if len(idxs) > 0: \n",
    "    # loop over the indexes we are keeping\n",
    "    for i in idxs.flatten():\n",
    "      # find  \n",
    "      centerX, centerY = centers[i][0], centers[i][1]\n",
    "\n",
    "      if centerX <= W/3:\n",
    "        W_pos = \"left \"\n",
    "      elif centerX <= (W/3 * 2):\n",
    "        W_pos = \"center \"\n",
    "      else:\n",
    "        W_pos = \"right \"\n",
    "\n",
    "      texts.append(W_pos + LABELS[classIDs[i]])\n",
    "\n",
    "print(texts)\n",
    "\n"
   ]
  },
  {
   "cell_type": "code",
   "execution_count": 22,
   "metadata": {},
   "outputs": [
    {
     "name": "stderr",
     "output_type": "stream",
     "text": [
      "'.' is not recognized as an internal or external command,\n",
      "operable program or batch file.\n"
     ]
    }
   ],
   "source": [
    "!./darknet detect cfg/yolov3.cfg yolov3.weights data/dog.jpg\n"
   ]
  },
  {
   "cell_type": "code",
   "execution_count": 23,
   "metadata": {},
   "outputs": [
    {
     "name": "stderr",
     "output_type": "stream",
     "text": [
      "'darknet.exe' is not recognized as an internal or external command,\n",
      "operable program or batch file.\n"
     ]
    }
   ],
   "source": [
    "!darknet.exe detect cfg/yolov3.cfg yolov3.weights data/dog.jpg\n"
   ]
  },
  {
   "cell_type": "code",
   "execution_count": null,
   "metadata": {},
   "outputs": [],
   "source": []
  }
 ],
 "metadata": {
  "kernelspec": {
   "display_name": "Python 3",
   "language": "python",
   "name": "python3"
  },
  "language_info": {
   "codemirror_mode": {
    "name": "ipython",
    "version": 3
   },
   "file_extension": ".py",
   "mimetype": "text/x-python",
   "name": "python",
   "nbconvert_exporter": "python",
   "pygments_lexer": "ipython3",
   "version": "3.7.3"
  }
 },
 "nbformat": 4,
 "nbformat_minor": 2
}
